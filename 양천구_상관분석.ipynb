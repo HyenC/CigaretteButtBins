{
 "cells": [
  {
   "cell_type": "code",
   "execution_count": 1,
   "metadata": {},
   "outputs": [],
   "source": [
    "import pandas as pd\n",
    "import numpy as np\n",
    "import seaborn as sns\n",
    "import matplotlib.pyplot as plt\n",
    "import koreanize_matplotlib\n",
    "\n",
    "# 카카오 맵 API 불러오기 위해\n",
    "import requests\n",
    "import json\n",
    "\n",
    "# 상관분석\n",
    "from sklearn import preprocessing\n",
    "from scipy.stats import chi2_contingency"
   ]
  },
  {
   "attachments": {},
   "cell_type": "markdown",
   "metadata": {},
   "source": [
    "## 데이터셋 불러오기"
   ]
  },
  {
   "cell_type": "code",
   "execution_count": 2,
   "metadata": {},
   "outputs": [
    {
     "name": "stdout",
     "output_type": "stream",
     "text": [
      "(23, 8)\n"
     ]
    },
    {
     "data": {
      "text/html": [
       "<div>\n",
       "<style scoped>\n",
       "    .dataframe tbody tr th:only-of-type {\n",
       "        vertical-align: middle;\n",
       "    }\n",
       "\n",
       "    .dataframe tbody tr th {\n",
       "        vertical-align: top;\n",
       "    }\n",
       "\n",
       "    .dataframe thead th {\n",
       "        text-align: right;\n",
       "    }\n",
       "</style>\n",
       "<table border=\"1\" class=\"dataframe\">\n",
       "  <thead>\n",
       "    <tr style=\"text-align: right;\">\n",
       "      <th></th>\n",
       "      <th>자치구</th>\n",
       "      <th>시설 구분</th>\n",
       "      <th>시설형태</th>\n",
       "      <th>설치 위치</th>\n",
       "      <th>규모(제곱미터)</th>\n",
       "      <th>설치기관</th>\n",
       "      <th>데이터기준일자</th>\n",
       "      <th>주소</th>\n",
       "    </tr>\n",
       "  </thead>\n",
       "  <tbody>\n",
       "    <tr>\n",
       "      <th>0</th>\n",
       "      <td>양천구</td>\n",
       "      <td>청사</td>\n",
       "      <td>완전개방형</td>\n",
       "      <td>양천구청 부지</td>\n",
       "      <td>8.0</td>\n",
       "      <td>양천구청</td>\n",
       "      <td>2022-08-01</td>\n",
       "      <td>서울특별시 양천구 목동동로 105</td>\n",
       "    </tr>\n",
       "    <tr>\n",
       "      <th>1</th>\n",
       "      <td>양천구</td>\n",
       "      <td>청사</td>\n",
       "      <td>완전개방형</td>\n",
       "      <td>해누리타운 4층 옥외정원</td>\n",
       "      <td>8.0</td>\n",
       "      <td>양천구청</td>\n",
       "      <td>2022-08-01</td>\n",
       "      <td>서울특별시 양천구 목동동로 81</td>\n",
       "    </tr>\n",
       "    <tr>\n",
       "      <th>2</th>\n",
       "      <td>양천구</td>\n",
       "      <td>청사</td>\n",
       "      <td>완전개방형</td>\n",
       "      <td>양천경찰서 부지</td>\n",
       "      <td>10.0</td>\n",
       "      <td>양천경찰서</td>\n",
       "      <td>2022-08-01</td>\n",
       "      <td>서울특별시 양천구 목동동로 99</td>\n",
       "    </tr>\n",
       "    <tr>\n",
       "      <th>3</th>\n",
       "      <td>양천구</td>\n",
       "      <td>청사</td>\n",
       "      <td>개방형</td>\n",
       "      <td>남부지방법원 후문 옆</td>\n",
       "      <td>17.0</td>\n",
       "      <td>남부지방법원</td>\n",
       "      <td>2022-08-01</td>\n",
       "      <td>서울특별시 양천구 신월로 386</td>\n",
       "    </tr>\n",
       "    <tr>\n",
       "      <th>4</th>\n",
       "      <td>양천구</td>\n",
       "      <td>청사</td>\n",
       "      <td>개방형</td>\n",
       "      <td>양천세무서 부지 우측</td>\n",
       "      <td>10.0</td>\n",
       "      <td>양천세무서</td>\n",
       "      <td>2022-08-01</td>\n",
       "      <td>서울특별시 양천구 목동동로 165</td>\n",
       "    </tr>\n",
       "  </tbody>\n",
       "</table>\n",
       "</div>"
      ],
      "text/plain": [
       "   자치구 시설 구분   시설형태          설치 위치  규모(제곱미터)    설치기관     데이터기준일자  \\\n",
       "0  양천구    청사  완전개방형        양천구청 부지       8.0    양천구청  2022-08-01   \n",
       "1  양천구    청사  완전개방형  해누리타운 4층 옥외정원       8.0    양천구청  2022-08-01   \n",
       "2  양천구    청사  완전개방형       양천경찰서 부지      10.0   양천경찰서  2022-08-01   \n",
       "3  양천구    청사    개방형    남부지방법원 후문 옆      17.0  남부지방법원  2022-08-01   \n",
       "4  양천구    청사    개방형    양천세무서 부지 우측      10.0   양천세무서  2022-08-01   \n",
       "\n",
       "                   주소  \n",
       "0  서울특별시 양천구 목동동로 105  \n",
       "1   서울특별시 양천구 목동동로 81  \n",
       "2   서울특별시 양천구 목동동로 99  \n",
       "3   서울특별시 양천구 신월로 386  \n",
       "4  서울특별시 양천구 목동동로 165  "
      ]
     },
     "execution_count": 2,
     "metadata": {},
     "output_type": "execute_result"
    }
   ],
   "source": [
    "yangcheon_c = pd.read_csv('data/서울특별시_양천구_흡연시설 현황_20220801.csv')\n",
    "print(yangcheon_c.shape)\n",
    "yangcheon_c.head()"
   ]
  },
  {
   "cell_type": "code",
   "execution_count": 3,
   "metadata": {},
   "outputs": [
    {
     "name": "stdout",
     "output_type": "stream",
     "text": [
      "(12, 6)\n"
     ]
    },
    {
     "data": {
      "text/html": [
       "<div>\n",
       "<style scoped>\n",
       "    .dataframe tbody tr th:only-of-type {\n",
       "        vertical-align: middle;\n",
       "    }\n",
       "\n",
       "    .dataframe tbody tr th {\n",
       "        vertical-align: top;\n",
       "    }\n",
       "\n",
       "    .dataframe thead th {\n",
       "        text-align: right;\n",
       "    }\n",
       "</style>\n",
       "<table border=\"1\" class=\"dataframe\">\n",
       "  <thead>\n",
       "    <tr style=\"text-align: right;\">\n",
       "      <th></th>\n",
       "      <th>address_name</th>\n",
       "      <th>경도</th>\n",
       "      <th>위도</th>\n",
       "      <th>도로명주소</th>\n",
       "      <th>설치장소</th>\n",
       "      <th>시군구명</th>\n",
       "    </tr>\n",
       "  </thead>\n",
       "  <tbody>\n",
       "    <tr>\n",
       "      <th>0</th>\n",
       "      <td>서울 양천구 목동동로 293</td>\n",
       "      <td>126.875772</td>\n",
       "      <td>37.528178</td>\n",
       "      <td>서울시 양천구 목동동로 293</td>\n",
       "      <td>현대41타워앞 인도</td>\n",
       "      <td>양천구</td>\n",
       "    </tr>\n",
       "    <tr>\n",
       "      <th>1</th>\n",
       "      <td>서울 양천구 목동서로 57</td>\n",
       "      <td>126.879863</td>\n",
       "      <td>37.536632</td>\n",
       "      <td>서울시 양천구 목동서로 57</td>\n",
       "      <td>파리지앙A앞 공용주차장</td>\n",
       "      <td>양천구</td>\n",
       "    </tr>\n",
       "    <tr>\n",
       "      <th>2</th>\n",
       "      <td>서울 양천구 오목로 232</td>\n",
       "      <td>126.863206</td>\n",
       "      <td>37.525764</td>\n",
       "      <td>서울시 양천구 오목로 232</td>\n",
       "      <td>보성상가옆 먹자골목</td>\n",
       "      <td>양천구</td>\n",
       "    </tr>\n",
       "    <tr>\n",
       "      <th>3</th>\n",
       "      <td>서울 양천구 중앙로 276</td>\n",
       "      <td>126.852884</td>\n",
       "      <td>37.520836</td>\n",
       "      <td>서울시 양천구 중앙로 276</td>\n",
       "      <td>신정네거리역 뒤 먹자골목</td>\n",
       "      <td>양천구</td>\n",
       "    </tr>\n",
       "    <tr>\n",
       "      <th>4</th>\n",
       "      <td>서울 양천구 오목로 325</td>\n",
       "      <td>126.873627</td>\n",
       "      <td>37.525107</td>\n",
       "      <td>서울시 양천구 오목로 325</td>\n",
       "      <td>농협 옆 골목</td>\n",
       "      <td>양천구</td>\n",
       "    </tr>\n",
       "  </tbody>\n",
       "</table>\n",
       "</div>"
      ],
      "text/plain": [
       "      address_name          경도         위도             도로명주소           설치장소  \\\n",
       "0  서울 양천구 목동동로 293  126.875772  37.528178  서울시 양천구 목동동로 293     현대41타워앞 인도   \n",
       "1   서울 양천구 목동서로 57  126.879863  37.536632   서울시 양천구 목동서로 57   파리지앙A앞 공용주차장   \n",
       "2   서울 양천구 오목로 232  126.863206  37.525764   서울시 양천구 오목로 232     보성상가옆 먹자골목   \n",
       "3   서울 양천구 중앙로 276  126.852884  37.520836   서울시 양천구 중앙로 276  신정네거리역 뒤 먹자골목   \n",
       "4   서울 양천구 오목로 325  126.873627  37.525107   서울시 양천구 오목로 325        농협 옆 골목   \n",
       "\n",
       "  시군구명  \n",
       "0  양천구  \n",
       "1  양천구  \n",
       "2  양천구  \n",
       "3  양천구  \n",
       "4  양천구  "
      ]
     },
     "execution_count": 3,
     "metadata": {},
     "output_type": "execute_result"
    }
   ],
   "source": [
    "yangcheon_cbb = pd.read_csv('data/쓰레기통_위경도/양천구_담배꽁초쓰레기통_위경도.csv')\n",
    "print(yangcheon_cbb.shape)\n",
    "yangcheon_cbb.head()"
   ]
  },
  {
   "cell_type": "code",
   "execution_count": 4,
   "metadata": {},
   "outputs": [],
   "source": [
    "yangcheon_c = yangcheon_c[['주소']]"
   ]
  },
  {
   "cell_type": "code",
   "execution_count": 5,
   "metadata": {},
   "outputs": [],
   "source": [
    "yangcheon_cbb = yangcheon_cbb[['도로명주소']]"
   ]
  },
  {
   "attachments": {},
   "cell_type": "markdown",
   "metadata": {},
   "source": [
    "### mapo_c(흡연구역) 대로명 뽑기"
   ]
  },
  {
   "cell_type": "code",
   "execution_count": 7,
   "metadata": {},
   "outputs": [],
   "source": [
    "a = yangcheon_c['주소'].apply(lambda x:x.split(\" \"))\n",
    "\n",
    "for i in range(len(a)):\n",
    "    a[i] = a[i][2]\n",
    "\n",
    "yangcheon_c['주소'] = a\n",
    "\n",
    "b = yangcheon_c['주소'].str.split('로')\n",
    "\n",
    "for i in range(len(b)):\n",
    "    b[i] = b[i][0] + '로'\n",
    "\n",
    "yangcheon_c['주소'] = b"
   ]
  },
  {
   "attachments": {},
   "cell_type": "markdown",
   "metadata": {},
   "source": [
    "### mapo_cbb(쓰레기통) 대로명 뽑기"
   ]
  },
  {
   "cell_type": "code",
   "execution_count": 8,
   "metadata": {},
   "outputs": [],
   "source": [
    "a = yangcheon_cbb['도로명주소'].apply(lambda x:x.split(\" \"))\n",
    "\n",
    "for i in range(len(a)):\n",
    "    a[i] = a[i][2]\n",
    "\n",
    "yangcheon_cbb['도로명주소']=a\n",
    "\n",
    "b = yangcheon_cbb['도로명주소'].str.split('로')\n",
    "\n",
    "for i in range(len(b)):\n",
    "    b[i] = b[i][0] + '로'\n",
    "\n",
    "yangcheon_cbb['도로명주소'] = b"
   ]
  },
  {
   "attachments": {},
   "cell_type": "markdown",
   "metadata": {},
   "source": [
    "### concat"
   ]
  },
  {
   "cell_type": "code",
   "execution_count": 9,
   "metadata": {},
   "outputs": [
    {
     "data": {
      "text/html": [
       "<div>\n",
       "<style scoped>\n",
       "    .dataframe tbody tr th:only-of-type {\n",
       "        vertical-align: middle;\n",
       "    }\n",
       "\n",
       "    .dataframe tbody tr th {\n",
       "        vertical-align: top;\n",
       "    }\n",
       "\n",
       "    .dataframe thead th {\n",
       "        text-align: right;\n",
       "    }\n",
       "</style>\n",
       "<table border=\"1\" class=\"dataframe\">\n",
       "  <thead>\n",
       "    <tr style=\"text-align: right;\">\n",
       "      <th></th>\n",
       "      <th>주소</th>\n",
       "      <th>도로명주소</th>\n",
       "    </tr>\n",
       "  </thead>\n",
       "  <tbody>\n",
       "    <tr>\n",
       "      <th>0</th>\n",
       "      <td>목동동로</td>\n",
       "      <td>목동동로</td>\n",
       "    </tr>\n",
       "    <tr>\n",
       "      <th>1</th>\n",
       "      <td>목동동로</td>\n",
       "      <td>양천구로</td>\n",
       "    </tr>\n",
       "    <tr>\n",
       "      <th>2</th>\n",
       "      <td>목동동로</td>\n",
       "      <td>양천구로</td>\n",
       "    </tr>\n",
       "    <tr>\n",
       "      <th>3</th>\n",
       "      <td>신월로</td>\n",
       "      <td>중앙로</td>\n",
       "    </tr>\n",
       "    <tr>\n",
       "      <th>4</th>\n",
       "      <td>목동동로</td>\n",
       "      <td>오목로</td>\n",
       "    </tr>\n",
       "    <tr>\n",
       "      <th>5</th>\n",
       "      <td>목동동로</td>\n",
       "      <td>오목로</td>\n",
       "    </tr>\n",
       "    <tr>\n",
       "      <th>6</th>\n",
       "      <td>지양로</td>\n",
       "      <td>양천구로</td>\n",
       "    </tr>\n",
       "    <tr>\n",
       "      <th>7</th>\n",
       "      <td>안양천로</td>\n",
       "      <td>양천구로</td>\n",
       "    </tr>\n",
       "    <tr>\n",
       "      <th>8</th>\n",
       "      <td>목동로</td>\n",
       "      <td>신정중앙로</td>\n",
       "    </tr>\n",
       "    <tr>\n",
       "      <th>9</th>\n",
       "      <td>신정이펜1로</td>\n",
       "      <td>오목로</td>\n",
       "    </tr>\n",
       "    <tr>\n",
       "      <th>10</th>\n",
       "      <td>목동동로</td>\n",
       "      <td>양천구로</td>\n",
       "    </tr>\n",
       "    <tr>\n",
       "      <th>11</th>\n",
       "      <td>목동동로</td>\n",
       "      <td>양천구로</td>\n",
       "    </tr>\n",
       "    <tr>\n",
       "      <th>12</th>\n",
       "      <td>중앙로</td>\n",
       "      <td>NaN</td>\n",
       "    </tr>\n",
       "    <tr>\n",
       "      <th>13</th>\n",
       "      <td>신정로</td>\n",
       "      <td>NaN</td>\n",
       "    </tr>\n",
       "    <tr>\n",
       "      <th>14</th>\n",
       "      <td>목동동로</td>\n",
       "      <td>NaN</td>\n",
       "    </tr>\n",
       "    <tr>\n",
       "      <th>15</th>\n",
       "      <td>목동서로</td>\n",
       "      <td>NaN</td>\n",
       "    </tr>\n",
       "    <tr>\n",
       "      <th>16</th>\n",
       "      <td>목동서로</td>\n",
       "      <td>NaN</td>\n",
       "    </tr>\n",
       "    <tr>\n",
       "      <th>17</th>\n",
       "      <td>목동서로</td>\n",
       "      <td>NaN</td>\n",
       "    </tr>\n",
       "    <tr>\n",
       "      <th>18</th>\n",
       "      <td>안양천로</td>\n",
       "      <td>NaN</td>\n",
       "    </tr>\n",
       "    <tr>\n",
       "      <th>19</th>\n",
       "      <td>등촌로</td>\n",
       "      <td>NaN</td>\n",
       "    </tr>\n",
       "    <tr>\n",
       "      <th>20</th>\n",
       "      <td>신정로</td>\n",
       "      <td>NaN</td>\n",
       "    </tr>\n",
       "    <tr>\n",
       "      <th>21</th>\n",
       "      <td>목동동로</td>\n",
       "      <td>NaN</td>\n",
       "    </tr>\n",
       "    <tr>\n",
       "      <th>22</th>\n",
       "      <td>목동동로</td>\n",
       "      <td>NaN</td>\n",
       "    </tr>\n",
       "  </tbody>\n",
       "</table>\n",
       "</div>"
      ],
      "text/plain": [
       "        주소  도로명주소\n",
       "0     목동동로   목동동로\n",
       "1     목동동로   양천구로\n",
       "2     목동동로   양천구로\n",
       "3      신월로    중앙로\n",
       "4     목동동로    오목로\n",
       "5     목동동로    오목로\n",
       "6      지양로   양천구로\n",
       "7     안양천로   양천구로\n",
       "8      목동로  신정중앙로\n",
       "9   신정이펜1로    오목로\n",
       "10    목동동로   양천구로\n",
       "11    목동동로   양천구로\n",
       "12     중앙로    NaN\n",
       "13     신정로    NaN\n",
       "14    목동동로    NaN\n",
       "15    목동서로    NaN\n",
       "16    목동서로    NaN\n",
       "17    목동서로    NaN\n",
       "18    안양천로    NaN\n",
       "19     등촌로    NaN\n",
       "20     신정로    NaN\n",
       "21    목동동로    NaN\n",
       "22    목동동로    NaN"
      ]
     },
     "execution_count": 9,
     "metadata": {},
     "output_type": "execute_result"
    }
   ],
   "source": [
    "yangcheon_m = pd.concat([yangcheon_c, yangcheon_cbb], axis=1)\n",
    "yangcheon_m"
   ]
  },
  {
   "cell_type": "code",
   "execution_count": 10,
   "metadata": {},
   "outputs": [],
   "source": [
    "yangcheon_m.columns = ['흡연구역', '쓰레기통']"
   ]
  },
  {
   "attachments": {},
   "cell_type": "markdown",
   "metadata": {},
   "source": [
    "## 검정"
   ]
  },
  {
   "cell_type": "code",
   "execution_count": 11,
   "metadata": {},
   "outputs": [
    {
     "data": {
      "text/html": [
       "<div>\n",
       "<style scoped>\n",
       "    .dataframe tbody tr th:only-of-type {\n",
       "        vertical-align: middle;\n",
       "    }\n",
       "\n",
       "    .dataframe tbody tr th {\n",
       "        vertical-align: top;\n",
       "    }\n",
       "\n",
       "    .dataframe thead th {\n",
       "        text-align: right;\n",
       "    }\n",
       "</style>\n",
       "<table border=\"1\" class=\"dataframe\">\n",
       "  <thead>\n",
       "    <tr style=\"text-align: right;\">\n",
       "      <th></th>\n",
       "      <th>흡연구역</th>\n",
       "      <th>쓰레기통</th>\n",
       "    </tr>\n",
       "  </thead>\n",
       "  <tbody>\n",
       "    <tr>\n",
       "      <th>0</th>\n",
       "      <td>1</td>\n",
       "      <td>0</td>\n",
       "    </tr>\n",
       "    <tr>\n",
       "      <th>1</th>\n",
       "      <td>1</td>\n",
       "      <td>2</td>\n",
       "    </tr>\n",
       "    <tr>\n",
       "      <th>2</th>\n",
       "      <td>1</td>\n",
       "      <td>2</td>\n",
       "    </tr>\n",
       "    <tr>\n",
       "      <th>3</th>\n",
       "      <td>4</td>\n",
       "      <td>4</td>\n",
       "    </tr>\n",
       "    <tr>\n",
       "      <th>4</th>\n",
       "      <td>1</td>\n",
       "      <td>3</td>\n",
       "    </tr>\n",
       "  </tbody>\n",
       "</table>\n",
       "</div>"
      ],
      "text/plain": [
       "   흡연구역  쓰레기통\n",
       "0     1     0\n",
       "1     1     2\n",
       "2     1     2\n",
       "3     4     4\n",
       "4     1     3"
      ]
     },
     "execution_count": 11,
     "metadata": {},
     "output_type": "execute_result"
    }
   ],
   "source": [
    "label = preprocessing.LabelEncoder()\n",
    "data_encoded = pd.DataFrame()\n",
    "\n",
    "for i in yangcheon_m.columns:\n",
    "    data_encoded[i] = label.fit_transform(yangcheon_m[i])\n",
    "    \n",
    "data_encoded.head()"
   ]
  },
  {
   "attachments": {},
   "cell_type": "markdown",
   "metadata": {},
   "source": [
    "### 쓰레기통, 흡연구역 상관"
   ]
  },
  {
   "cell_type": "code",
   "execution_count": 12,
   "metadata": {},
   "outputs": [
    {
     "data": {
      "text/html": [
       "<div>\n",
       "<style scoped>\n",
       "    .dataframe tbody tr th:only-of-type {\n",
       "        vertical-align: middle;\n",
       "    }\n",
       "\n",
       "    .dataframe tbody tr th {\n",
       "        vertical-align: top;\n",
       "    }\n",
       "\n",
       "    .dataframe thead th {\n",
       "        text-align: right;\n",
       "    }\n",
       "</style>\n",
       "<table border=\"1\" class=\"dataframe\">\n",
       "  <thead>\n",
       "    <tr style=\"text-align: right;\">\n",
       "      <th>흡연구역</th>\n",
       "      <th>0</th>\n",
       "      <th>1</th>\n",
       "      <th>2</th>\n",
       "      <th>3</th>\n",
       "      <th>4</th>\n",
       "      <th>5</th>\n",
       "      <th>6</th>\n",
       "      <th>7</th>\n",
       "      <th>8</th>\n",
       "      <th>9</th>\n",
       "    </tr>\n",
       "    <tr>\n",
       "      <th>쓰레기통</th>\n",
       "      <th></th>\n",
       "      <th></th>\n",
       "      <th></th>\n",
       "      <th></th>\n",
       "      <th></th>\n",
       "      <th></th>\n",
       "      <th></th>\n",
       "      <th></th>\n",
       "      <th></th>\n",
       "      <th></th>\n",
       "    </tr>\n",
       "  </thead>\n",
       "  <tbody>\n",
       "    <tr>\n",
       "      <th>0</th>\n",
       "      <td>0</td>\n",
       "      <td>1</td>\n",
       "      <td>0</td>\n",
       "      <td>0</td>\n",
       "      <td>0</td>\n",
       "      <td>0</td>\n",
       "      <td>0</td>\n",
       "      <td>0</td>\n",
       "      <td>0</td>\n",
       "      <td>0</td>\n",
       "    </tr>\n",
       "    <tr>\n",
       "      <th>1</th>\n",
       "      <td>0</td>\n",
       "      <td>0</td>\n",
       "      <td>1</td>\n",
       "      <td>0</td>\n",
       "      <td>0</td>\n",
       "      <td>0</td>\n",
       "      <td>0</td>\n",
       "      <td>0</td>\n",
       "      <td>0</td>\n",
       "      <td>0</td>\n",
       "    </tr>\n",
       "    <tr>\n",
       "      <th>2</th>\n",
       "      <td>0</td>\n",
       "      <td>4</td>\n",
       "      <td>0</td>\n",
       "      <td>0</td>\n",
       "      <td>0</td>\n",
       "      <td>0</td>\n",
       "      <td>0</td>\n",
       "      <td>1</td>\n",
       "      <td>0</td>\n",
       "      <td>1</td>\n",
       "    </tr>\n",
       "    <tr>\n",
       "      <th>3</th>\n",
       "      <td>0</td>\n",
       "      <td>2</td>\n",
       "      <td>0</td>\n",
       "      <td>0</td>\n",
       "      <td>0</td>\n",
       "      <td>0</td>\n",
       "      <td>1</td>\n",
       "      <td>0</td>\n",
       "      <td>0</td>\n",
       "      <td>0</td>\n",
       "    </tr>\n",
       "    <tr>\n",
       "      <th>4</th>\n",
       "      <td>0</td>\n",
       "      <td>0</td>\n",
       "      <td>0</td>\n",
       "      <td>0</td>\n",
       "      <td>1</td>\n",
       "      <td>0</td>\n",
       "      <td>0</td>\n",
       "      <td>0</td>\n",
       "      <td>0</td>\n",
       "      <td>0</td>\n",
       "    </tr>\n",
       "    <tr>\n",
       "      <th>5</th>\n",
       "      <td>1</td>\n",
       "      <td>3</td>\n",
       "      <td>0</td>\n",
       "      <td>3</td>\n",
       "      <td>0</td>\n",
       "      <td>2</td>\n",
       "      <td>0</td>\n",
       "      <td>1</td>\n",
       "      <td>1</td>\n",
       "      <td>0</td>\n",
       "    </tr>\n",
       "  </tbody>\n",
       "</table>\n",
       "</div>"
      ],
      "text/plain": [
       "흡연구역  0  1  2  3  4  5  6  7  8  9\n",
       "쓰레기통                              \n",
       "0     0  1  0  0  0  0  0  0  0  0\n",
       "1     0  0  1  0  0  0  0  0  0  0\n",
       "2     0  4  0  0  0  0  0  1  0  1\n",
       "3     0  2  0  0  0  0  1  0  0  0\n",
       "4     0  0  0  0  1  0  0  0  0  0\n",
       "5     1  3  0  3  0  2  0  1  1  0"
      ]
     },
     "execution_count": 12,
     "metadata": {},
     "output_type": "execute_result"
    }
   ],
   "source": [
    "df_crosstab = pd.crosstab(data_encoded['쓰레기통'], data_encoded['흡연구역'])\n",
    "df_crosstab"
   ]
  },
  {
   "cell_type": "code",
   "execution_count": 13,
   "metadata": {},
   "outputs": [
    {
     "data": {
      "text/plain": [
       "[[0, 1, 0, 0, 0, 0, 0, 0, 0, 0],\n",
       " [0, 0, 1, 0, 0, 0, 0, 0, 0, 0],\n",
       " [0, 4, 0, 0, 0, 0, 0, 1, 0, 1],\n",
       " [0, 2, 0, 0, 0, 0, 1, 0, 0, 0],\n",
       " [0, 0, 0, 0, 1, 0, 0, 0, 0, 0],\n",
       " [1, 3, 0, 3, 0, 2, 0, 1, 1, 0]]"
      ]
     },
     "execution_count": 13,
     "metadata": {},
     "output_type": "execute_result"
    }
   ],
   "source": [
    "rows = [row.to_list() for i, row in df_crosstab.iterrows()]\n",
    "rows"
   ]
  },
  {
   "cell_type": "code",
   "execution_count": 14,
   "metadata": {},
   "outputs": [
    {
     "data": {
      "text/plain": [
       "(65.48030303030305,\n",
       " 0.02466437384267831,\n",
       " 45,\n",
       " array([[0.04347826, 0.43478261, 0.04347826, 0.13043478, 0.04347826,\n",
       "         0.08695652, 0.04347826, 0.08695652, 0.04347826, 0.04347826],\n",
       "        [0.04347826, 0.43478261, 0.04347826, 0.13043478, 0.04347826,\n",
       "         0.08695652, 0.04347826, 0.08695652, 0.04347826, 0.04347826],\n",
       "        [0.26086957, 2.60869565, 0.26086957, 0.7826087 , 0.26086957,\n",
       "         0.52173913, 0.26086957, 0.52173913, 0.26086957, 0.26086957],\n",
       "        [0.13043478, 1.30434783, 0.13043478, 0.39130435, 0.13043478,\n",
       "         0.26086957, 0.13043478, 0.26086957, 0.13043478, 0.13043478],\n",
       "        [0.04347826, 0.43478261, 0.04347826, 0.13043478, 0.04347826,\n",
       "         0.08695652, 0.04347826, 0.08695652, 0.04347826, 0.04347826],\n",
       "        [0.47826087, 4.7826087 , 0.47826087, 1.43478261, 0.47826087,\n",
       "         0.95652174, 0.47826087, 0.95652174, 0.47826087, 0.47826087]]))"
      ]
     },
     "execution_count": 14,
     "metadata": {},
     "output_type": "execute_result"
    }
   ],
   "source": [
    "# 쓰레기통, 흡연구역 상관 없음\n",
    "chi2_contingency(rows, correction=False)"
   ]
  },
  {
   "cell_type": "code",
   "execution_count": 15,
   "metadata": {},
   "outputs": [
    {
     "name": "stdout",
     "output_type": "stream",
     "text": [
      "0.7545819633372769\n"
     ]
    }
   ],
   "source": [
    "x2 = chi2_contingency(rows, correction=False)[0]\n",
    "n = np.sum(rows)\n",
    "minDimension = min(np.array(rows).shape)-1\n",
    "\n",
    "V = np.sqrt((x2/n) / minDimension)\n",
    "\n",
    "print(V)"
   ]
  },
  {
   "attachments": {},
   "cell_type": "markdown",
   "metadata": {},
   "source": [
    "### 전체 상관 df"
   ]
  },
  {
   "cell_type": "code",
   "execution_count": 16,
   "metadata": {},
   "outputs": [],
   "source": [
    "# 함수 정의 및 혼동행렬 생성\n",
    "def cramers_V(var1, var2):\n",
    "    crosstab = np.array(pd.crosstab(var1, var2, rownames=None, colnames=None))\n",
    "    stat = chi2_contingency(crosstab)[0]\n",
    "    obs = np.sum(crosstab)\n",
    "    phi2 = stat / obs\n",
    "    r, k = crosstab.shape\n",
    "    phi2corr = max(0, phi2 - (((k-1)*(r-1))/(obs-1)))\n",
    "    rcorr = r - ((r-1)**2)/(obs-1)\n",
    "    kcorr = k - ((k-1)**2)/(obs-1)\n",
    "    return np.sqrt(phi2corr / min((kcorr-1), (rcorr-1)))"
   ]
  },
  {
   "cell_type": "code",
   "execution_count": 17,
   "metadata": {},
   "outputs": [],
   "source": [
    "rows = []\n",
    "\n",
    "for var1 in data_encoded:\n",
    "    col = []\n",
    "    for var2 in data_encoded:\n",
    "        cramers = cramers_V(data_encoded[var1], data_encoded[var2])\n",
    "        col.append(round(cramers, 2))\n",
    "    rows.append(col)"
   ]
  },
  {
   "cell_type": "code",
   "execution_count": 18,
   "metadata": {},
   "outputs": [
    {
     "data": {
      "text/plain": [
       "array([[1.  , 0.46],\n",
       "       [0.46, 1.  ]])"
      ]
     },
     "execution_count": 18,
     "metadata": {},
     "output_type": "execute_result"
    }
   ],
   "source": [
    "cramers_results = np.array(rows)\n",
    "cramers_results"
   ]
  },
  {
   "cell_type": "code",
   "execution_count": 19,
   "metadata": {},
   "outputs": [
    {
     "data": {
      "text/html": [
       "<div>\n",
       "<style scoped>\n",
       "    .dataframe tbody tr th:only-of-type {\n",
       "        vertical-align: middle;\n",
       "    }\n",
       "\n",
       "    .dataframe tbody tr th {\n",
       "        vertical-align: top;\n",
       "    }\n",
       "\n",
       "    .dataframe thead th {\n",
       "        text-align: right;\n",
       "    }\n",
       "</style>\n",
       "<table border=\"1\" class=\"dataframe\">\n",
       "  <thead>\n",
       "    <tr style=\"text-align: right;\">\n",
       "      <th></th>\n",
       "      <th>흡연구역</th>\n",
       "      <th>쓰레기통</th>\n",
       "    </tr>\n",
       "  </thead>\n",
       "  <tbody>\n",
       "    <tr>\n",
       "      <th>흡연구역</th>\n",
       "      <td>1.00</td>\n",
       "      <td>0.46</td>\n",
       "    </tr>\n",
       "    <tr>\n",
       "      <th>쓰레기통</th>\n",
       "      <td>0.46</td>\n",
       "      <td>1.00</td>\n",
       "    </tr>\n",
       "  </tbody>\n",
       "</table>\n",
       "</div>"
      ],
      "text/plain": [
       "      흡연구역  쓰레기통\n",
       "흡연구역  1.00  0.46\n",
       "쓰레기통  0.46  1.00"
      ]
     },
     "execution_count": 19,
     "metadata": {},
     "output_type": "execute_result"
    }
   ],
   "source": [
    "df = pd.DataFrame(cramers_results, columns = data_encoded.columns, index = data_encoded.columns)\n",
    "df"
   ]
  }
 ],
 "metadata": {
  "kernelspec": {
   "display_name": "base",
   "language": "python",
   "name": "python3"
  },
  "language_info": {
   "codemirror_mode": {
    "name": "ipython",
    "version": 3
   },
   "file_extension": ".py",
   "mimetype": "text/x-python",
   "name": "python",
   "nbconvert_exporter": "python",
   "pygments_lexer": "ipython3",
   "version": "3.9.13"
  },
  "orig_nbformat": 4
 },
 "nbformat": 4,
 "nbformat_minor": 2
}
